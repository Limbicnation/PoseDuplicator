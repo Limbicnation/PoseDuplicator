{
 "cells": [
  {
   "cell_type": "code",
   "execution_count": 13,
   "id": "48f1c7ef-7420-40eb-9708-a18264353558",
   "metadata": {},
   "outputs": [],
   "source": [
    "# This scrip is from the user 'Pollyanna' on Discord 1196170240606871643\n",
    "from PIL import Image, ImageSequence, ImageChops\n",
    "import os, os.path\n",
    "import glob\n",
    "\n",
    "# How many frames to duplicate down to. The number of clones in the final gif will be roughly the actual number of frames in the gif divided by this number\n",
    "FinalFrameNumber = 2  # Increase this to reduce overlap and create smoother interpolation\n",
    "# A minimum number of actual frames in the output accomplished by looping the final frames enough times.\n",
    "MinimumOutputFrames = 15 # Increase this to have more frames in the final output\n",
    "# Output Framerate (in milliseconds per frame)\n",
    "MsPerFrame = 12  # Adjust this to control the speed of the animation\n",
    "\n",
    "# Change this to the file you want to clone. Final result will be 'FinalPoseResult.gif' in the folder this script was run from\n",
    "InputImage = Image.open(\"AnimateDiff_00011.gif\")\n",
    "\n",
    "# Are later frames added above or below previous frames?\n",
    "LaterFramesAboveEarlierFrames = False\n",
    "\n",
    "InputFrames = [f.copy().convert(\"RGB\") for f in ImageSequence.Iterator(InputImage)]\n",
    "NumInputFrames = len(InputFrames)\n",
    "\n",
    "# Create an output image of the starting frames\n",
    "FinishedProductFrames = []\n",
    "for i in range(FinalFrameNumber):\n",
    "\t# Start with a base frame from the input pose animation\n",
    "\tcurrFrame = InputFrames[i]\n",
    "\t\n",
    "\t# Iterate through the rest of the frames, adding the non-black pixels to this base frame\n",
    "\tfor j in range(i + FinalFrameNumber,NumInputFrames,FinalFrameNumber):\n",
    "\t\tnewFrame = InputFrames[j]\n",
    "\t\tnewPixelData = newFrame.getdata()\n",
    "\t\tcurrPixelData = currFrame.getdata()\n",
    "\t\tind = 0\n",
    "\t\tnewData = []\n",
    "\t\tfor datum in newPixelData:\n",
    "\t\t\t# If the pixel isn't black, it's pose information, so copy it\n",
    "\t\t\tif datum != (0,0,0) and (currPixelData[ind] == (0,0,0) or LaterFramesAboveEarlierFrames) :\n",
    "\t\t\t\tnewData.append(datum)\n",
    "\t\t\telse:\n",
    "\t\t\t\tnewData.append(currPixelData[ind])\n",
    "\t\t\tind = ind + 1\n",
    "\t\tcurrFrame.putdata(newData)\n",
    "\tFinishedProductFrames.append(currFrame)\n",
    "\t\n",
    "OutputFrames = []\n",
    "while(len(OutputFrames) < MinimumOutputFrames):\n",
    "\tfor i in range(len(FinishedProductFrames)):\n",
    "\t\tOutputFrames.append(FinishedProductFrames[i])\n",
    "\t\n",
    "# Save the animation\n",
    "OutputFrames[0].save(\n",
    "\t'./FinalPoseResult.gif',\n",
    "\tsave_all = True, \n",
    "\tappend_images = OutputFrames[0:],\n",
    "\tloop = 0,\n",
    "\tduration=MsPerFrame,\n",
    ")"
   ]
  },
  {
   "cell_type": "code",
   "execution_count": null,
   "id": "b88e850f-46ad-49bb-bfa8-ba6ec62122f8",
   "metadata": {},
   "outputs": [],
   "source": []
  }
 ],
 "metadata": {
  "kernelspec": {
   "display_name": "Python 3 (ipykernel)",
   "language": "python",
   "name": "python3"
  },
  "language_info": {
   "codemirror_mode": {
    "name": "ipython",
    "version": 3
   },
   "file_extension": ".py",
   "mimetype": "text/x-python",
   "name": "python",
   "nbconvert_exporter": "python",
   "pygments_lexer": "ipython3",
   "version": "3.11.7"
  }
 },
 "nbformat": 4,
 "nbformat_minor": 5
}
